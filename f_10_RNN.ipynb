{
  "nbformat": 4,
  "nbformat_minor": 0,
  "metadata": {
    "colab": {
      "name": "f-10-RNN",
      "version": "0.3.2",
      "provenance": [],
      "collapsed_sections": [],
      "include_colab_link": true
    },
    "kernelspec": {
      "name": "python3",
      "display_name": "Python 3"
    },
    "accelerator": "GPU"
  },
  "cells": [
    {
      "cell_type": "markdown",
      "metadata": {
        "id": "view-in-github",
        "colab_type": "text"
      },
      "source": [
        "<a href=\"https://colab.research.google.com/github/StillWork/colab-1/blob/master/f_10_RNN.ipynb\" target=\"_parent\"><img src=\"https://colab.research.google.com/assets/colab-badge.svg\" alt=\"Open In Colab\"/></a>"
      ]
    },
    {
      "metadata": {
        "id": "yBaZtZcUSJNx",
        "colab_type": "code",
        "colab": {
          "base_uri": "https://localhost:8080/",
          "height": 50
        },
        "outputId": "22222cfe-844c-4cb0-9eea-c9be8250a02e"
      },
      "cell_type": "code",
      "source": [
        "import keras\n",
        "keras.__version__"
      ],
      "execution_count": 2,
      "outputs": [
        {
          "output_type": "stream",
          "text": [
            "Using TensorFlow backend.\n"
          ],
          "name": "stderr"
        },
        {
          "output_type": "execute_result",
          "data": {
            "text/plain": [
              "'2.2.4'"
            ]
          },
          "metadata": {
            "tags": []
          },
          "execution_count": 2
        }
      ]
    },
    {
      "metadata": {
        "id": "89ZYNhjVTm2B",
        "colab_type": "text"
      },
      "cell_type": "markdown",
      "source": [
        "## 마지막 스텝의 출력만 얻는 경우"
      ]
    },
    {
      "metadata": {
        "id": "hk5o30QkSJN8",
        "colab_type": "code",
        "colab": {}
      },
      "cell_type": "code",
      "source": [
        "from keras.layers import SimpleRNN"
      ],
      "execution_count": 0,
      "outputs": []
    },
    {
      "metadata": {
        "id": "p5wzsi17SJOD",
        "colab_type": "code",
        "colab": {
          "base_uri": "https://localhost:8080/",
          "height": 202
        },
        "outputId": "11b07b64-3f97-4338-ec99-281f0cb038c2"
      },
      "cell_type": "code",
      "source": [
        "from keras.models import Sequential\n",
        "from keras.layers import Embedding, SimpleRNN\n",
        "\n",
        "model = Sequential()\n",
        "model.add(Embedding(10000, 32))\n",
        "model.add(SimpleRNN(32))\n",
        "model.summary()"
      ],
      "execution_count": 4,
      "outputs": [
        {
          "output_type": "stream",
          "text": [
            "_________________________________________________________________\n",
            "Layer (type)                 Output Shape              Param #   \n",
            "=================================================================\n",
            "embedding_1 (Embedding)      (None, None, 32)          320000    \n",
            "_________________________________________________________________\n",
            "simple_rnn_1 (SimpleRNN)     (None, 32)                2080      \n",
            "=================================================================\n",
            "Total params: 322,080\n",
            "Trainable params: 322,080\n",
            "Non-trainable params: 0\n",
            "_________________________________________________________________\n"
          ],
          "name": "stdout"
        }
      ]
    },
    {
      "metadata": {
        "id": "Lbh-yZEPUSAQ",
        "colab_type": "text"
      },
      "cell_type": "markdown",
      "source": [
        "### 아래는 전체 스텝에 대한 출력을 얻는 코드이다"
      ]
    },
    {
      "metadata": {
        "id": "3buWB-NZSJOK",
        "colab_type": "code",
        "colab": {
          "base_uri": "https://localhost:8080/",
          "height": 202
        },
        "outputId": "58a2bb57-cb9d-47ad-e0b8-8b3321c711f9"
      },
      "cell_type": "code",
      "source": [
        "model = Sequential()\n",
        "model.add(Embedding(10000, 32))\n",
        "model.add(SimpleRNN(32, return_sequences=True))\n",
        "model.summary()"
      ],
      "execution_count": 5,
      "outputs": [
        {
          "output_type": "stream",
          "text": [
            "_________________________________________________________________\n",
            "Layer (type)                 Output Shape              Param #   \n",
            "=================================================================\n",
            "embedding_2 (Embedding)      (None, None, 32)          320000    \n",
            "_________________________________________________________________\n",
            "simple_rnn_2 (SimpleRNN)     (None, None, 32)          2080      \n",
            "=================================================================\n",
            "Total params: 322,080\n",
            "Trainable params: 322,080\n",
            "Non-trainable params: 0\n",
            "_________________________________________________________________\n"
          ],
          "name": "stdout"
        }
      ]
    },
    {
      "metadata": {
        "id": "6i1lJH3TUgPz",
        "colab_type": "text"
      },
      "cell_type": "markdown",
      "source": [
        "### RNN을 여러 계층으로 쌓는 경우에는 중간 계층이 전체 스텝에 대한 출력을 내보내야 한다."
      ]
    },
    {
      "metadata": {
        "id": "OrKB5e9_SJOP",
        "colab_type": "code",
        "colab": {
          "base_uri": "https://localhost:8080/",
          "height": 302
        },
        "outputId": "dee3305d-92cd-4d66-ad2a-7656373e21a6"
      },
      "cell_type": "code",
      "source": [
        "model = Sequential()\n",
        "model.add(Embedding(10000, 32))\n",
        "model.add(SimpleRNN(32, return_sequences=True))\n",
        "model.add(SimpleRNN(32, return_sequences=True))\n",
        "model.add(SimpleRNN(32, return_sequences=True))\n",
        "model.add(SimpleRNN(32))  # This last layer only returns the last outputs.\n",
        "model.summary()"
      ],
      "execution_count": 5,
      "outputs": [
        {
          "output_type": "stream",
          "text": [
            "_________________________________________________________________\n",
            "Layer (type)                 Output Shape              Param #   \n",
            "=================================================================\n",
            "embedding_2 (Embedding)      (None, None, 32)          320000    \n",
            "_________________________________________________________________\n",
            "simple_rnn_2 (SimpleRNN)     (None, None, 32)          2080      \n",
            "_________________________________________________________________\n",
            "simple_rnn_3 (SimpleRNN)     (None, None, 32)          2080      \n",
            "_________________________________________________________________\n",
            "simple_rnn_4 (SimpleRNN)     (None, None, 32)          2080      \n",
            "_________________________________________________________________\n",
            "simple_rnn_5 (SimpleRNN)     (None, 32)                2080      \n",
            "=================================================================\n",
            "Total params: 328,320\n",
            "Trainable params: 328,320\n",
            "Non-trainable params: 0\n",
            "_________________________________________________________________\n"
          ],
          "name": "stdout"
        }
      ]
    },
    {
      "metadata": {
        "id": "dLXUpC9JSJOf",
        "colab_type": "code",
        "colab": {
          "base_uri": "https://localhost:8080/",
          "height": 151
        },
        "outputId": "61dfef1d-0dc8-464d-dac8-71f98f1dffd4"
      },
      "cell_type": "code",
      "source": [
        "from keras.datasets import imdb\n",
        "from keras.preprocessing import sequence\n",
        "\n",
        "max_features = 10000  # number of words to consider as features\n",
        "maxlen = 500  # cut texts after this number of words (among top max_features most common words)\n",
        "batch_size = 32\n",
        "\n",
        "print('Loading data...')\n",
        "(input_train, y_train), (input_test, y_test) = imdb.load_data(num_words=max_features)\n",
        "print(len(input_train), 'train sequences')\n",
        "print(len(input_test), 'test sequences')\n",
        "\n",
        "print('Pad sequences (samples x time)')\n",
        "input_train = sequence.pad_sequences(input_train, maxlen=maxlen)\n",
        "input_test = sequence.pad_sequences(input_test, maxlen=maxlen)\n",
        "print('input_train shape:', input_train.shape)\n",
        "print('input_test shape:', input_test.shape)"
      ],
      "execution_count": 6,
      "outputs": [
        {
          "output_type": "stream",
          "text": [
            "Loading data...\n",
            "Downloading data from https://s3.amazonaws.com/text-datasets/imdb.npz\n",
            "17465344/17464789 [==============================] - 2s 0us/step\n",
            "25000 train sequences\n",
            "25000 test sequences\n",
            "Pad sequences (samples x time)\n",
            "input_train shape: (25000, 500)\n",
            "input_test shape: (25000, 500)\n"
          ],
          "name": "stdout"
        }
      ]
    },
    {
      "metadata": {
        "id": "0q7u6yK-SJOl",
        "colab_type": "text"
      },
      "cell_type": "markdown",
      "source": [
        "### Embedding과 SimpleRNN을 사용"
      ]
    },
    {
      "metadata": {
        "id": "YqKVlUNySJOo",
        "colab_type": "code",
        "colab": {
          "base_uri": "https://localhost:8080/",
          "height": 390
        },
        "outputId": "35c3b290-6b19-494e-cd61-34e0062ee4f8"
      },
      "cell_type": "code",
      "source": [
        "from keras.layers import Dense\n",
        "\n",
        "model = Sequential()\n",
        "model.add(Embedding(max_features, 32))\n",
        "model.add(SimpleRNN(32))\n",
        "model.add(Dense(1, activation='sigmoid'))\n",
        "\n",
        "model.compile(optimizer='rmsprop', loss='binary_crossentropy', metrics=['acc'])\n",
        "history = model.fit(input_train, y_train,\n",
        "                    epochs=10,\n",
        "                    batch_size=128,\n",
        "                    validation_split=0.2)"
      ],
      "execution_count": 7,
      "outputs": [
        {
          "output_type": "stream",
          "text": [
            "Train on 20000 samples, validate on 5000 samples\n",
            "Epoch 1/10\n",
            "20000/20000 [==============================] - 49s 2ms/step - loss: 0.6515 - acc: 0.6002 - val_loss: 0.5462 - val_acc: 0.7536\n",
            "Epoch 2/10\n",
            "20000/20000 [==============================] - 47s 2ms/step - loss: 0.4382 - acc: 0.8141 - val_loss: 0.3865 - val_acc: 0.8394\n",
            "Epoch 3/10\n",
            "20000/20000 [==============================] - 46s 2ms/step - loss: 0.3104 - acc: 0.8750 - val_loss: 0.4016 - val_acc: 0.8186\n",
            "Epoch 4/10\n",
            "20000/20000 [==============================] - 47s 2ms/step - loss: 0.2346 - acc: 0.9093 - val_loss: 0.3240 - val_acc: 0.8762\n",
            "Epoch 5/10\n",
            "20000/20000 [==============================] - 47s 2ms/step - loss: 0.1810 - acc: 0.9325 - val_loss: 0.4121 - val_acc: 0.8546\n",
            "Epoch 6/10\n",
            "20000/20000 [==============================] - 46s 2ms/step - loss: 0.1347 - acc: 0.9523 - val_loss: 0.3858 - val_acc: 0.8472\n",
            "Epoch 7/10\n",
            "20000/20000 [==============================] - 46s 2ms/step - loss: 0.1008 - acc: 0.9660 - val_loss: 0.4247 - val_acc: 0.8498\n",
            "Epoch 8/10\n",
            "20000/20000 [==============================] - 46s 2ms/step - loss: 0.0629 - acc: 0.9806 - val_loss: 0.5015 - val_acc: 0.8230\n",
            "Epoch 9/10\n",
            "20000/20000 [==============================] - 46s 2ms/step - loss: 0.0388 - acc: 0.9892 - val_loss: 0.5196 - val_acc: 0.8392\n",
            "Epoch 10/10\n",
            "20000/20000 [==============================] - 46s 2ms/step - loss: 0.0284 - acc: 0.9916 - val_loss: 0.5827 - val_acc: 0.8276\n"
          ],
          "name": "stdout"
        }
      ]
    },
    {
      "metadata": {
        "id": "6Tgz_4Z6SJOw",
        "colab_type": "code",
        "colab": {
          "base_uri": "https://localhost:8080/",
          "height": 706
        },
        "outputId": "0d4a232b-dffc-4941-abc4-b7dcb38c0510"
      },
      "cell_type": "code",
      "source": [
        "import matplotlib.pyplot as plt\n",
        "\n",
        "acc = history.history['acc']\n",
        "val_acc = history.history['val_acc']\n",
        "loss = history.history['loss']\n",
        "val_loss = history.history['val_loss']\n",
        "\n",
        "epochs = range(len(acc))\n",
        "\n",
        "plt.plot(epochs, acc, 'bo', label='Training acc')\n",
        "plt.plot(epochs, val_acc, 'b', label='Validation acc')\n",
        "plt.title('Training and validation accuracy')\n",
        "plt.legend()\n",
        "\n",
        "plt.figure()\n",
        "\n",
        "plt.plot(epochs, loss, 'bo', label='Training loss')\n",
        "plt.plot(epochs, val_loss, 'b', label='Validation loss')\n",
        "plt.title('Training and validation loss')\n",
        "plt.legend()\n",
        "\n",
        "plt.show()"
      ],
      "execution_count": 8,
      "outputs": [
        {
          "output_type": "display_data",
          "data": {
            "image/png": "[encoded data removed]",
            "text/plain": [
              "<matplotlib.figure.Figure at 0x7f8cdfeb0588>"
            ]
          },
          "metadata": {
            "tags": []
          }
        },
        {
          "output_type": "display_data",
          "data": {
            "image/png": "[encoded data removed]",
            "text/plain": [
              "<matplotlib.figure.Figure at 0x7f8cdfe9f128>"
            ]
          },
          "metadata": {
            "tags": []
          }
        }
      ]
    },
    {
      "metadata": {
        "id": "MqEAIHxdSJO1",
        "colab_type": "text"
      },
      "cell_type": "markdown",
      "source": [
        "### 500개의 샘플만 사용하여 성능이 좋지 않다"
      ]
    },
    {
      "metadata": {
        "id": "S8ekrlGeSJO2",
        "colab_type": "text"
      },
      "cell_type": "markdown",
      "source": [
        "## 경사 소실문제를 해결하기 위해서 LSTM 사용\n",
        "### 감성분석 같은 **간단한** 문제에서는 임베딩이나 LSTM이 큰 효과를 보이지는 않는다"
      ]
    },
    {
      "metadata": {
        "id": "4Sw7b0hfSJO3",
        "colab_type": "code",
        "colab": {
          "base_uri": "https://localhost:8080/",
          "height": 222
        },
        "outputId": "be3ce642-74b1-467b-c168-499c54c2d507"
      },
      "cell_type": "code",
      "source": [
        "from keras.layers import LSTM\n",
        "\n",
        "model = Sequential()\n",
        "model.add(Embedding(max_features, 32))\n",
        "model.add(LSTM(32))\n",
        "model.add(Dense(1, activation='sigmoid'))\n",
        "\n",
        "model.compile(optimizer='rmsprop',\n",
        "              loss='binary_crossentropy',\n",
        "              metrics=['acc'])\n",
        "history = model.fit(input_train, y_train,\n",
        "                    epochs=10,\n",
        "                    batch_size=128,\n",
        "                    validation_split=0.2)"
      ],
      "execution_count": 0,
      "outputs": [
        {
          "output_type": "stream",
          "text": [
            "Train on 20000 samples, validate on 5000 samples\n",
            "Epoch 1/10\n",
            "20000/20000 [==============================] - 189s 9ms/step - loss: 0.5089 - acc: 0.7627 - val_loss: 0.3410 - val_acc: 0.8738\n",
            "Epoch 2/10\n",
            "20000/20000 [==============================] - 189s 9ms/step - loss: 0.2942 - acc: 0.8842 - val_loss: 0.4029 - val_acc: 0.8126\n",
            "Epoch 3/10\n",
            "20000/20000 [==============================] - 191s 10ms/step - loss: 0.2344 - acc: 0.9090 - val_loss: 0.3595 - val_acc: 0.8756\n",
            "Epoch 4/10\n",
            "20000/20000 [==============================] - 192s 10ms/step - loss: 0.1955 - acc: 0.9277 - val_loss: 0.3770 - val_acc: 0.8806\n",
            "Epoch 5/10\n",
            "17664/20000 [=========================>....] - ETA: 21s - loss: 0.1699 - acc: 0.9390"
          ],
          "name": "stdout"
        }
      ]
    },
    {
      "metadata": {
        "id": "kRvVBj60SJO9",
        "colab_type": "code",
        "colab": {},
        "outputId": "dfcecc44-e27a-4fa9-9301-814aa2557c60"
      },
      "cell_type": "code",
      "source": [
        "acc = history.history['acc']\n",
        "val_acc = history.history['val_acc']\n",
        "loss = history.history['loss']\n",
        "val_loss = history.history['val_loss']\n",
        "\n",
        "epochs = range(len(acc))\n",
        "\n",
        "plt.plot(epochs, acc, 'bo', label='Training acc')\n",
        "plt.plot(epochs, val_acc, 'b', label='Validation acc')\n",
        "plt.title('Training and validation accuracy')\n",
        "plt.legend()\n",
        "\n",
        "plt.figure()\n",
        "\n",
        "plt.plot(epochs, loss, 'bo', label='Training loss')\n",
        "plt.plot(epochs, val_loss, 'b', label='Validation loss')\n",
        "plt.title('Training and validation loss')\n",
        "plt.legend()\n",
        "\n",
        "plt.show()"
      ],
      "execution_count": 0,
      "outputs": [
        {
          "output_type": "display_data",
          "data": {
            "image/png": "[encoded data removed]",
            "text/plain": [
              "<matplotlib.figure.Figure at 0x7f426c72e908>"
            ]
          },
          "metadata": {
            "tags": []
          }
        },
        {
          "output_type": "display_data",
          "data": {
            "image/png": "[encoded data removed]",
            "text/plain": [
              "<matplotlib.figure.Figure at 0x7f4265b6e3c8>"
            ]
          },
          "metadata": {
            "tags": []
          }
        }
      ]
    }
  ]
}