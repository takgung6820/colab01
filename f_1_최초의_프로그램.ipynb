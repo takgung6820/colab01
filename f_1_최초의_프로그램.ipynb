{
  "nbformat": 4,
  "nbformat_minor": 0,
  "metadata": {
    "colab": {
      "name": "f-1-최초의 프로그램",
      "version": "0.3.2",
      "provenance": [],
      "collapsed_sections": [],
      "include_colab_link": true
    },
    "kernelspec": {
      "display_name": "Python 3",
      "name": "python3"
    }
  },
  "cells": [
    {
      "cell_type": "markdown",
      "metadata": {
        "id": "view-in-github",
        "colab_type": "text"
      },
      "source": [
        "<a href=\"https://colab.research.google.com/github/StillWork/colab-1/blob/master/f_1_%EC%B5%9C%EC%B4%88%EC%9D%98_%ED%94%84%EB%A1%9C%EA%B7%B8%EB%9E%A8.ipynb\" target=\"_parent\"><img src=\"https://colab.research.google.com/assets/colab-badge.svg\" alt=\"Open In Colab\"/></a>"
      ]
    },
    {
      "metadata": {
        "id": "2i_fHsI51pu-",
        "colab_type": "text"
      },
      "cell_type": "markdown",
      "source": [
        "<img height=\"60px\" src=\"/img/colab_favicon.ico\" align=\"left\" hspace=\"20px\" vspace=\"5px\">\n",
        "\n",
        "## Colaboratory에 오신 것을 환영합니다.\n",
        "\n",
        "Colaboratory는 설치가 필요 없고 완전히 클라우드에서 실행되는 무료 Jupyter 노트 환경입니다. 자세한 정보는 [FAQ](https://research.google.com/colaboratory/faq.html)를 참조하세요."
      ]
    },
    {
      "metadata": {
        "id": "nGXrezT31pvC",
        "colab_type": "text"
      },
      "cell_type": "markdown",
      "source": [
        "## 참고 사이트\n",
        "- [Colaboratory 개요](/notebooks/basic_features_overview.ipynb)\n",
        "- [데이터 로드 및 저장: 로컬 파일, 드라이브, 스프레드시트, Google Cloud Storage](/notebooks/io.ipynb)\n",
        "- [라이브러리 가져오기 및 종속성 항목 설치](/notebooks/snippets/importing_libraries.ipynb)\n",
        "- [Google Cloud BigQuery 사용하기](/notebooks/bigquery.ipynb)\n",
        "- [양식](/notebooks/forms.ipynb), [차트](/notebooks/charts.ipynb), [마크다운](/notebooks/markdown_guide.ipynb), [위젯](/notebooks/widgets.ipynb)\n",
        "- [GPU가 포함된 텐서플로우](/notebooks/gpu.ipynb)\n",
        "- [머신러닝 단기집중과정](https://developers.google.com/machine-learning/crash-course/): [Pandas 소개](/notebooks/mlcc/intro_to_pandas.ipynb) 및 [TensorFlow 첫 단계](/notebooks/mlcc/first_steps_with_tensor_flow.ipynb)\n"
      ]
    },
    {
      "metadata": {
        "id": "1fr51oVCHRZU",
        "colab_type": "text"
      },
      "cell_type": "markdown",
      "source": [
        "## 주목할 만한 기능"
      ]
    },
    {
      "metadata": {
        "id": "9wi5kfGdhK0R",
        "colab_type": "text"
      },
      "cell_type": "markdown",
      "source": [
        "### 텐서플로우 실행"
      ]
    },
    {
      "metadata": {
        "id": "-jIJtoWl1pvH",
        "colab_type": "text"
      },
      "cell_type": "markdown",
      "source": [
        "Colaboratory를 사용하면 클릭 한 번만으로 사용 중인 브라우저에서 텐서플로우 코드를 실행할 수 있습니다. 아래의 예에서는 두 개의 행렬을 추가합니다.\n",
        "\n",
        "$\\begin{bmatrix}\n",
        "  1. & 1. & 1. \\\\\n",
        "  1. & 1. & 1. \\\\\n",
        "\\end{bmatrix} +\n",
        "\\begin{bmatrix}\n",
        "  1. & 2. & 3. \\\\\n",
        "  4. & 5. & 6. \\\\\n",
        "\\end{bmatrix} =\n",
        "\\begin{bmatrix}\n",
        "  2. & 3. & 4. \\\\\n",
        "  5. & 6. & 7. \\\\\n",
        "\\end{bmatrix}$"
      ]
    },
    {
      "metadata": {
        "id": "oYZkU7ZN3CL0",
        "colab_type": "code",
        "colab": {
          "base_uri": "https://localhost:8080/",
          "height": 50
        },
        "outputId": "38eec4ed-7a0b-4dea-ff2b-99bbb40c62be"
      },
      "cell_type": "code",
      "source": [
        "import tensorflow as tf\n",
        "\n",
        "input1 = tf.ones((2, 3))\n",
        "input2 = tf.reshape(tf.range(1, 7, dtype=tf.float32), (2, 3))\n",
        "output = input1 + input2\n",
        "\n",
        "with tf.Session():\n",
        "  result = output.eval()\n",
        "result  "
      ],
      "execution_count": 1,
      "outputs": [
        {
          "output_type": "execute_result",
          "data": {
            "text/plain": [
              "array([[2., 3., 4.],\n",
              "       [5., 6., 7.]], dtype=float32)"
            ]
          },
          "metadata": {
            "tags": []
          },
          "execution_count": 1
        }
      ]
    },
    {
      "metadata": {
        "id": "36vrVNfk3lNy",
        "colab_type": "code",
        "colab": {
          "base_uri": "https://localhost:8080/",
          "height": 34
        },
        "outputId": "0d2b12c2-09a1-478d-ec30-3a2a4bf17f1b"
      },
      "cell_type": "code",
      "source": [
        "# 파이썬의 일반 기능을 포함한다\n",
        "x=3\n",
        "x"
      ],
      "execution_count": 3,
      "outputs": [
        {
          "output_type": "execute_result",
          "data": {
            "text/plain": [
              "3"
            ]
          },
          "metadata": {
            "tags": []
          },
          "execution_count": 3
        }
      ]
    },
    {
      "metadata": {
        "id": "nwYF0E3Sjiy4",
        "colab_type": "text"
      },
      "cell_type": "markdown",
      "source": [
        "### GitHub\n",
        "\n",
        "파일 > GitHub에 사본 저장…을 사용하여 Colab 노트의 사본을 GitHub로 저장할 수 있습니다.\n",
        "\n",
        "경로를 colab.research.google.com/github/에 추가하여 GitHub에서 .ipynb를 로드할 수 있습니다. \n"
      ]
    },
    {
      "metadata": {
        "id": "yv2XIwi5hQ_g",
        "colab_type": "text"
      },
      "cell_type": "markdown",
      "source": [
        "### 시각화"
      ]
    },
    {
      "metadata": {
        "id": "RJDXyH391pvO",
        "colab_type": "text"
      },
      "cell_type": "markdown",
      "source": [
        " [matplotlib](https://matplotlib.org/)를 사용할 수 있습니다."
      ]
    },
    {
      "metadata": {
        "id": "Cejk5TWs1pvO",
        "colab_type": "code",
        "colab": {
          "base_uri": "https://localhost:8080/",
          "height": 347
        },
        "outputId": "8d2e9764-3782-4a1e-cb43-25d607946f25"
      },
      "cell_type": "code",
      "source": [
        "import matplotlib.pyplot as plt\n",
        "import numpy as np\n",
        "\n",
        "x = np.arange(20)\n",
        "y = [x_i + np.random.randn(1) for x_i in x]\n",
        "a, b = np.polyfit(x, y, 1)\n",
        "_ = plt.plot(x, y, 'o', np.arange(20), a*np.arange(20)+b, '-')"
      ],
      "execution_count": 4,
      "outputs": [
        {
          "output_type": "display_data",
          "data": {
            "image/png": "[encoded data removed]",
            "text/plain": [
              "<matplotlib.figure.Figure at 0x7fbce9cdff98>"
            ]
          },
          "metadata": {
            "tags": []
          }
        }
      ]
    },
    {
      "metadata": {
        "id": "AN_LRQ9NkOjs",
        "colab_type": "text"
      },
      "cell_type": "markdown",
      "source": [
        "새 라이브러리를 사용하고 싶으신가요? 노트 상단에서 `pip 설치`를 통해 라이브러리를 가져오면 노트의 다른 곳에서 사용할 수 있습니다. 일반적으로 사용되는 라이브러리를 가져오는 방법은 [라이브러리 가져오기 예시 노트](/notebooks/snippets/importing_libraries.ipynb)를 참조하세요."
      ]
    },
    {
      "metadata": {
        "id": "FlQq0SUepQbd",
        "colab_type": "code",
        "colab": {
          "base_uri": "https://localhost:8080/",
          "height": 330
        },
        "outputId": "2e0bcd0b-20e8-44c1-880b-9c45045c9227"
      },
      "cell_type": "code",
      "source": [
        "!pip install -q matplotlib-venn\n",
        "\n",
        "from matplotlib_venn import venn2\n",
        "_ = venn2(subsets = (3, 2, 1))"
      ],
      "execution_count": 5,
      "outputs": [
        {
          "output_type": "display_data",
          "data": {
            "image/png": "[encoded data removed]",
            "text/plain": [
              "<matplotlib.figure.Figure at 0x7fbce9d01898>"
            ]
          },
          "metadata": {
            "tags": []
          }
        }
      ]
    },
    {
      "metadata": {
        "id": "rTX3heEtu0b2",
        "colab_type": "text"
      },
      "cell_type": "markdown",
      "source": [
        "### 로컬 런타임 지원\n",
        "\n",
        "Colab은 로컬 머신에서 Jupyter 런타임 연결을 지원합니다. 자세한 내용은 [도움말](https://research.google.com/colaboratory/local-runtimes.html)을 참조하세요."
      ]
    }
  ]
}